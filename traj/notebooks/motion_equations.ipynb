{
 "cells": [
  {
   "cell_type": "code",
   "execution_count": 13,
   "metadata": {
    "scrolled": false
   },
   "outputs": [
    {
     "data": {
      "image/png": "[encoded data removed]",
      "text/latex": [
       "$\\displaystyle p_{end} = \\frac{a_{start} \\delta_{0}^{2}}{2} + \\frac{\\delta_{0}^{3} j_{max}}{6} + \\delta_{0} v_{start} - \\frac{\\delta_{1}^{3} j_{max}}{6} + \\delta_{1}^{2} \\left(\\frac{a_{start}}{2} + \\frac{\\delta_{0} j_{max}}{2}\\right) + \\delta_{1} \\left(a_{start} \\delta_{0} + \\frac{\\delta_{0}^{2} j_{max}}{2} + v_{start}\\right) + \\frac{\\delta_{2}^{3} j_{max}}{6} + \\delta_{2}^{2} \\left(\\frac{a_{start}}{2} + \\frac{\\delta_{0} j_{max}}{2} - \\frac{\\delta_{1} j_{max}}{2}\\right) + \\delta_{2} \\left(a_{start} \\delta_{0} + \\frac{\\delta_{0}^{2} j_{max}}{2} - \\frac{\\delta_{1}^{2} j_{max}}{2} + \\delta_{1} \\left(a_{start} + \\delta_{0} j_{max}\\right) + v_{start}\\right) + p_{start}$"
      ],
      "text/plain": [
       "                 2     3                      3                               \n",
       "        aₛₜₐᵣₜ⋅δ₀    δ₀ ⋅jₘₐₓ               δ₁ ⋅jₘₐₓ     2 ⎛aₛₜₐᵣₜ   δ₀⋅jₘₐₓ⎞ \n",
       "p_end = ────────── + ──────── + δ₀⋅vₛₜₐᵣₜ - ──────── + δ₁ ⋅⎜────── + ───────⎟ \n",
       "            2           6                      6           ⎝  2         2   ⎠ \n",
       "\n",
       "     ⎛              2              ⎞     3                                    \n",
       "     ⎜            δ₀ ⋅jₘₐₓ         ⎟   δ₂ ⋅jₘₐₓ     2 ⎛aₛₜₐᵣₜ   δ₀⋅jₘₐₓ   δ₁⋅j\n",
       "+ δ₁⋅⎜aₛₜₐᵣₜ⋅δ₀ + ──────── + vₛₜₐᵣₜ⎟ + ──────── + δ₂ ⋅⎜────── + ─────── - ────\n",
       "     ⎝               2             ⎠      6           ⎝  2         2         2\n",
       "\n",
       "          ⎛              2          2                                      ⎞  \n",
       "ₘₐₓ⎞      ⎜            δ₀ ⋅jₘₐₓ   δ₁ ⋅jₘₐₓ                                 ⎟  \n",
       "───⎟ + δ₂⋅⎜aₛₜₐᵣₜ⋅δ₀ + ──────── - ──────── + δ₁⋅(aₛₜₐᵣₜ + δ₀⋅jₘₐₓ) + vₛₜₐᵣₜ⎟ +\n",
       "   ⎠      ⎝               2          2                                     ⎠  \n",
       "\n",
       "       \n",
       "       \n",
       " pₛₜₐᵣₜ\n",
       "       "
      ]
     },
     "metadata": {},
     "output_type": "display_data"
    },
    {
     "data": {
      "image/png": "[encoded data removed]",
      "text/latex": [
       "$\\displaystyle v_{end} = a_{start} \\delta_{0} + \\frac{\\delta_{0}^{2} j_{max}}{2} - \\frac{\\delta_{1}^{2} j_{max}}{2} + \\delta_{1} \\left(a_{start} + \\delta_{0} j_{max}\\right) + \\frac{\\delta_{2}^{2} j_{max}}{2} + \\delta_{2} \\left(a_{start} + \\delta_{0} j_{max} - \\delta_{1} j_{max}\\right) + v_{start}$"
      ],
      "text/plain": [
       "                      2          2                                  2         \n",
       "                    δ₀ ⋅jₘₐₓ   δ₁ ⋅jₘₐₓ                           δ₂ ⋅jₘₐₓ    \n",
       "v_end = aₛₜₐᵣₜ⋅δ₀ + ──────── - ──────── + δ₁⋅(aₛₜₐᵣₜ + δ₀⋅jₘₐₓ) + ──────── + δ\n",
       "                       2          2                                  2        \n",
       "\n",
       "                                       \n",
       "                                       \n",
       "₂⋅(aₛₜₐᵣₜ + δ₀⋅jₘₐₓ - δ₁⋅jₘₐₓ) + vₛₜₐᵣₜ\n",
       "                                       "
      ]
     },
     "metadata": {},
     "output_type": "display_data"
    },
    {
     "data": {
      "image/png": "[encoded data removed]",
      "text/latex": [
       "$\\displaystyle a_{end} = a_{start} + \\delta_{0} j_{max} - \\delta_{1} j_{max} + \\delta_{2} j_{max}$"
      ],
      "text/plain": [
       "a_end = aₛₜₐᵣₜ + δ₀⋅jₘₐₓ - δ₁⋅jₘₐₓ + δ₂⋅jₘₐₓ"
      ]
     },
     "metadata": {},
     "output_type": "display_data"
    }
   ],
   "source": [
    "%matplotlib notebook\n",
    "from matplotlib import pyplot as plt\n",
    "import numpy as np\n",
    "import sympy\n",
    "import traj.segmented_trajectory\n",
    "sympy.init_printing()\n",
    "\n",
    "delta_0, delta_1, delta_2 = sympy.symbols('delta_0, delta_1, delta_2')\n",
    "\n",
    "j_max, p_start, v_start, a_start, p_end, v_end, a_end = sympy.symbols(\n",
    "    'j_max, p_start, v_start, a_start, p_end, v_end, a_end')\n",
    "\n",
    "trajectory = traj.segmented_trajectory.SegmentedTrajectory(\n",
    "    2.0, 1.0, 1.0,\n",
    "    [1, -1, 1],\n",
    "    0.0, 0.0, 0.0,\n",
    "    2.0, 0.0, 0.0)\n",
    "p_end_eq = trajectory.state_eq[0]\n",
    "v_end_eq = trajectory.state_eq[1]\n",
    "a_end_eq = trajectory.state_eq[2]\n",
    "\n",
    "p_end_lambda = sympy.lambdify([delta_0, delta_1, delta_2], p_end_eq.rhs.subs(trajectory.subs))\n",
    "v_end_lambda = sympy.lambdify([delta_0, delta_1, delta_2], v_end_eq.rhs.subs(trajectory.subs))\n",
    "a_end_lambda = sympy.lambdify([delta_0, delta_1, delta_2], a_end_eq.rhs.subs(trajectory.subs))\n",
    "\n",
    "display(p_end_eq)\n",
    "display(v_end_eq)\n",
    "display(a_end_eq)"
   ]
  },
  {
   "cell_type": "code",
   "execution_count": 14,
   "metadata": {},
   "outputs": [
    {
     "data": {
      "image/png": "[encoded data removed]",
      "text/latex": [
       "$\\displaystyle \\frac{a_{end} - a_{start} + j_{max} \\left(\\delta_{1} - \\delta_{2}\\right)}{j_{max}}$"
      ],
      "text/plain": [
       "a_end - aₛₜₐᵣₜ + jₘₐₓ⋅(δ₁ - δ₂)\n",
       "───────────────────────────────\n",
       "              jₘₐₓ             "
      ]
     },
     "metadata": {},
     "output_type": "display_data"
    }
   ],
   "source": [
    "delta_0_solution = sympy.solve(a_end_eq, delta_0)[0]\n",
    "delta_0_lambda = sympy.utilities.lambdify([delta_1, delta_2], delta_0_solution.subs(trajectory.subs))\n",
    "display(delta_0_solution)"
   ]
  },
  {
   "cell_type": "code",
   "execution_count": 15,
   "metadata": {
    "scrolled": true
   },
   "outputs": [
    {
     "data": {
      "image/png": "[encoded data removed]",
      "text/latex": [
       "$\\displaystyle \\left[ \\frac{- a_{end} + \\delta_{2} j_{max} - \\frac{\\sqrt{2 a_{end}^{2} - 8 a_{end} \\delta_{2} j_{max} + 2 a_{start}^{2} + 4 \\delta_{2}^{2} j_{max}^{2} + 4 j_{max} v_{end} - 4 j_{max} v_{start}}}{2}}{j_{max}}, \\  \\frac{- a_{end} + \\delta_{2} j_{max} + \\frac{\\sqrt{2 a_{end}^{2} - 8 a_{end} \\delta_{2} j_{max} + 2 a_{start}^{2} + 4 \\delta_{2}^{2} j_{max}^{2} + 4 j_{max} v_{end} - 4 j_{max} v_{start}}}{2}}{j_{max}}\\right]$"
      ],
      "text/plain": [
       "⎡                      _______________________________________________________\n",
       "⎢                     ╱        2                             2       2     2  \n",
       "⎢                   ╲╱  2⋅a_end  - 8⋅a_end⋅δ₂⋅jₘₐₓ + 2⋅aₛₜₐᵣₜ  + 4⋅δ₂ ⋅jₘₐₓ  +\n",
       "⎢-a_end + δ₂⋅jₘₐₓ - ──────────────────────────────────────────────────────────\n",
       "⎢                                                              2              \n",
       "⎢─────────────────────────────────────────────────────────────────────────────\n",
       "⎣                                                    jₘₐₓ                     \n",
       "\n",
       "______________________________                        ________________________\n",
       "                                                     ╱        2               \n",
       " 4⋅jₘₐₓ⋅v_end - 4⋅jₘₐₓ⋅vₛₜₐᵣₜ                      ╲╱  2⋅a_end  - 8⋅a_end⋅δ₂⋅j\n",
       "──────────────────────────────  -a_end + δ₂⋅jₘₐₓ + ───────────────────────────\n",
       "                                                                              \n",
       "──────────────────────────────, ──────────────────────────────────────────────\n",
       "                                                                              \n",
       "\n",
       "_____________________________________________________________⎤\n",
       "              2       2     2                                ⎥\n",
       "ₘₐₓ + 2⋅aₛₜₐᵣₜ  + 4⋅δ₂ ⋅jₘₐₓ  + 4⋅jₘₐₓ⋅v_end - 4⋅jₘₐₓ⋅vₛₜₐᵣₜ ⎥\n",
       "─────────────────────────────────────────────────────────────⎥\n",
       "                2                                            ⎥\n",
       "─────────────────────────────────────────────────────────────⎥\n",
       "      jₘₐₓ                                                   ⎦"
      ]
     },
     "execution_count": 15,
     "metadata": {},
     "output_type": "execute_result"
    }
   ],
   "source": [
    "delta_1_solutions = sympy.solve(v_end_eq.subs(delta_0, delta_0_solution), delta_1)\n",
    "delta_1_lambdas = [sympy.utilities.lambdify([delta_2], solution.subs(trajectory.subs))\n",
    "                   for solution in delta_1_solutions]\n",
    "delta_1_solutions"
   ]
  },
  {
   "cell_type": "code",
   "execution_count": 23,
   "metadata": {},
   "outputs": [
    {
     "data": {
      "application/javascript": [
       "/* Put everything inside the global mpl namespace */\n",
       "window.mpl = {};\n",
       "\n",
       "\n",
       "mpl.get_websocket_type = function() {\n",
       "    if (typeof(WebSocket) !== 'undefined') {\n",
       "        return WebSocket;\n",
       "    } else if (typeof(MozWebSocket) !== 'undefined') {\n",
       "        return MozWebSocket;\n",
       "    } else {\n",
       "        alert('Your browser does not have WebSocket support. ' +\n",
       "              'Please try Chrome, Safari or Firefox ≥ 6. ' +\n",
       "              'Firefox 4 and 5 are also supported but you ' +\n",
       "              'have to enable WebSockets in about:config.');\n",
       "    };\n",
       "}\n",
       "\n",
       "mpl.figure = function(figure_id, websocket, ondownload, parent_element) {\n",
       "    this.id = figure_id;\n",
       "\n",
       "    this.ws = websocket;\n",
       "\n",
       "    this.supports_binary = (this.ws.binaryType != undefined);\n",
       "\n",
       "    if (!this.supports_binary) {\n",
       "        var warnings = document.getElementById(\"mpl-warnings\");\n",
       "        if (warnings) {\n",
       "            warnings.style.display = 'block';\n",
       "            warnings.textContent = (\n",
       "                \"This browser does not support binary websocket messages. \" +\n",
       "                    \"Performance may be slow.\");\n",
       "        }\n",
       "    }\n",
       "\n",
       "    this.imageObj = new Image();\n",
       "\n",
       "    this.context = undefined;\n",
       "    this.message = undefined;\n",
       "    this.canvas = undefined;\n",
       "    this.rubberband_canvas = undefined;\n",
       "    this.rubberband_context = undefined;\n",
       "    this.format_dropdown = undefined;\n",
       "\n",
       "    this.image_mode = 'full';\n",
       "\n",
       "    this.root = $('<div/>');\n",
       "    this._root_extra_style(this.root)\n",
       "    this.root.attr('style', 'display: inline-block');\n",
       "\n",
       "    $(parent_element).append(this.root);\n",
       "\n",
       "    this._init_header(this);\n",
       "    this._init_canvas(this);\n",
       "    this._init_toolbar(this);\n",
       "\n",
       "    var fig = this;\n",
       "\n",
       "    this.waiting = false;\n",
       "\n",
       "    this.ws.onopen =  function () {\n",
       "            fig.send_message(\"supports_binary\", {value: fig.supports_binary});\n",
       "            fig.send_message(\"send_image_mode\", {});\n",
       "            if (mpl.ratio != 1) {\n",
       "                fig.send_message(\"set_dpi_ratio\", {'dpi_ratio': mpl.ratio});\n",
       "            }\n",
       "            fig.send_message(\"refresh\", {});\n",
       "        }\n",
       "\n",
       "    this.imageObj.onload = function() {\n",
       "            if (fig.image_mode == 'full') {\n",
       "                // Full images could contain transparency (where diff images\n",
       "                // almost always do), so we need to clear the canvas so that\n",
       "                // there is no ghosting.\n",
       "                fig.context.clearRect(0, 0, fig.canvas.width, fig.canvas.height);\n",
       "            }\n",
       "            fig.context.drawImage(fig.imageObj, 0, 0);\n",
       "        };\n",
       "\n",
       "    this.imageObj.onunload = function() {\n",
       "        fig.ws.close();\n",
       "    }\n",
       "\n",
       "    this.ws.onmessage = this._make_on_message_function(this);\n",
       "\n",
       "    this.ondownload = ondownload;\n",
       "}\n",
       "\n",
       "mpl.figure.prototype._init_header = function() {\n",
       "    var titlebar = $(\n",
       "        '<div class=\"ui-dialog-titlebar ui-widget-header ui-corner-all ' +\n",
       "        'ui-helper-clearfix\"/>');\n",
       "    var titletext = $(\n",
       "        '<div class=\"ui-dialog-title\" style=\"width: 100%; ' +\n",
       "        'text-align: center; padding: 3px;\"/>');\n",
       "    titlebar.append(titletext)\n",
       "    this.root.append(titlebar);\n",
       "    this.header = titletext[0];\n",
       "}\n",
       "\n",
       "\n",
       "\n",
       "mpl.figure.prototype._canvas_extra_style = function(canvas_div) {\n",
       "\n",
       "}\n",
       "\n",
       "\n",
       "mpl.figure.prototype._root_extra_style = function(canvas_div) {\n",
       "\n",
       "}\n",
       "\n",
       "mpl.figure.prototype._init_canvas = function() {\n",
       "    var fig = this;\n",
       "\n",
       "    var canvas_div = $('<div/>');\n",
       "\n",
       "    canvas_div.attr('style', 'position: relative; clear: both; outline: 0');\n",
       "\n",
       "    function canvas_keyboard_event(event) {\n",
       "        return fig.key_event(event, event['data']);\n",
       "    }\n",
       "\n",
       "    canvas_div.keydown('key_press', canvas_keyboard_event);\n",
       "    canvas_div.keyup('key_release', canvas_keyboard_event);\n",
       "    this.canvas_div = canvas_div\n",
       "    this._canvas_extra_style(canvas_div)\n",
       "    this.root.append(canvas_div);\n",
       "\n",
       "    var canvas = $('<canvas/>');\n",
       "    canvas.addClass('mpl-canvas');\n",
       "    canvas.attr('style', \"left: 0; top: 0; z-index: 0; outline: 0\")\n",
       "\n",
       "    this.canvas = canvas[0];\n",
       "    this.context = canvas[0].getContext(\"2d\");\n",
       "\n",
       "    var backingStore = this.context.backingStorePixelRatio ||\n",
       "\tthis.context.webkitBackingStorePixelRatio ||\n",
       "\tthis.context.mozBackingStorePixelRatio ||\n",
       "\tthis.context.msBackingStorePixelRatio ||\n",
       "\tthis.context.oBackingStorePixelRatio ||\n",
       "\tthis.context.backingStorePixelRatio || 1;\n",
       "\n",
       "    mpl.ratio = (window.devicePixelRatio || 1) / backingStore;\n",
       "\n",
       "    var rubberband = $('<canvas/>');\n",
       "    rubberband.attr('style', \"position: absolute; left: 0; top: 0; z-index: 1;\")\n",
       "\n",
       "    var pass_mouse_events = true;\n",
       "\n",
       "    canvas_div.resizable({\n",
       "        start: function(event, ui) {\n",
       "            pass_mouse_events = false;\n",
       "        },\n",
       "        resize: function(event, ui) {\n",
       "            fig.request_resize(ui.size.width, ui.size.height);\n",
       "        },\n",
       "        stop: function(event, ui) {\n",
       "            pass_mouse_events = true;\n",
       "            fig.request_resize(ui.size.width, ui.size.height);\n",
       "        },\n",
       "    });\n",
       "\n",
       "    function mouse_event_fn(event) {\n",
       "        if (pass_mouse_events)\n",
       "            return fig.mouse_event(event, event['data']);\n",
       "    }\n",
       "\n",
       "    rubberband.mousedown('button_press', mouse_event_fn);\n",
       "    rubberband.mouseup('button_release', mouse_event_fn);\n",
       "    // Throttle sequential mouse events to 1 every 20ms.\n",
       "    rubberband.mousemove('motion_notify', mouse_event_fn);\n",
       "\n",
       "    rubberband.mouseenter('figure_enter', mouse_event_fn);\n",
       "    rubberband.mouseleave('figure_leave', mouse_event_fn);\n",
       "\n",
       "    canvas_div.on(\"wheel\", function (event) {\n",
       "        event = event.originalEvent;\n",
       "        event['data'] = 'scroll'\n",
       "        if (event.deltaY < 0) {\n",
       "            event.step = 1;\n",
       "        } else {\n",
       "            event.step = -1;\n",
       "        }\n",
       "        mouse_event_fn(event);\n",
       "    });\n",
       "\n",
       "    canvas_div.append(canvas);\n",
       "    canvas_div.append(rubberband);\n",
       "\n",
       "    this.rubberband = rubberband;\n",
       "    this.rubberband_canvas = rubberband[0];\n",
       "    this.rubberband_context = rubberband[0].getContext(\"2d\");\n",
       "    this.rubberband_context.strokeStyle = \"#000000\";\n",
       "\n",
       "    this._resize_canvas = function(width, height) {\n",
       "        // Keep the size of the canvas, canvas container, and rubber band\n",
       "        // canvas in synch.\n",
       "        canvas_div.css('width', width)\n",
       "        canvas_div.css('height', height)\n",
       "\n",
       "        canvas.attr('width', width * mpl.ratio);\n",
       "        canvas.attr('height', height * mpl.ratio);\n",
       "        canvas.attr('style', 'width: ' + width + 'px; height: ' + height + 'px;');\n",
       "\n",
       "        rubberband.attr('width', width);\n",
       "        rubberband.attr('height', height);\n",
       "    }\n",
       "\n",
       "    // Set the figure to an initial 600x600px, this will subsequently be updated\n",
       "    // upon first draw.\n",
       "    this._resize_canvas(600, 600);\n",
       "\n",
       "    // Disable right mouse context menu.\n",
       "    $(this.rubberband_canvas).bind(\"contextmenu\",function(e){\n",
       "        return false;\n",
       "    });\n",
       "\n",
       "    function set_focus () {\n",
       "        canvas.focus();\n",
       "        canvas_div.focus();\n",
       "    }\n",
       "\n",
       "    window.setTimeout(set_focus, 100);\n",
       "}\n",
       "\n",
       "mpl.figure.prototype._init_toolbar = function() {\n",
       "    var fig = this;\n",
       "\n",
       "    var nav_element = $('<div/>');\n",
       "    nav_element.attr('style', 'width: 100%');\n",
       "    this.root.append(nav_element);\n",
       "\n",
       "    // Define a callback function for later on.\n",
       "    function toolbar_event(event) {\n",
       "        return fig.toolbar_button_onclick(event['data']);\n",
       "    }\n",
       "    function toolbar_mouse_event(event) {\n",
       "        return fig.toolbar_button_onmouseover(event['data']);\n",
       "    }\n",
       "\n",
       "    for(var toolbar_ind in mpl.toolbar_items) {\n",
       "        var name = mpl.toolbar_items[toolbar_ind][0];\n",
       "        var tooltip = mpl.toolbar_items[toolbar_ind][1];\n",
       "        var image = mpl.toolbar_items[toolbar_ind][2];\n",
       "        var method_name = mpl.toolbar_items[toolbar_ind][3];\n",
       "\n",
       "        if (!name) {\n",
       "            // put a spacer in here.\n",
       "            continue;\n",
       "        }\n",
       "        var button = $('<button/>');\n",
       "        button.addClass('ui-button ui-widget ui-state-default ui-corner-all ' +\n",
       "                        'ui-button-icon-only');\n",
       "        button.attr('role', 'button');\n",
       "        button.attr('aria-disabled', 'false');\n",
       "        button.click(method_name, toolbar_event);\n",
       "        button.mouseover(tooltip, toolbar_mouse_event);\n",
       "\n",
       "        var icon_img = $('<span/>');\n",
       "        icon_img.addClass('ui-button-icon-primary ui-icon');\n",
       "        icon_img.addClass(image);\n",
       "        icon_img.addClass('ui-corner-all');\n",
       "\n",
       "        var tooltip_span = $('<span/>');\n",
       "        tooltip_span.addClass('ui-button-text');\n",
       "        tooltip_span.html(tooltip);\n",
       "\n",
       "        button.append(icon_img);\n",
       "        button.append(tooltip_span);\n",
       "\n",
       "        nav_element.append(button);\n",
       "    }\n",
       "\n",
       "    var fmt_picker_span = $('<span/>');\n",
       "\n",
       "    var fmt_picker = $('<select/>');\n",
       "    fmt_picker.addClass('mpl-toolbar-option ui-widget ui-widget-content');\n",
       "    fmt_picker_span.append(fmt_picker);\n",
       "    nav_element.append(fmt_picker_span);\n",
       "    this.format_dropdown = fmt_picker[0];\n",
       "\n",
       "    for (var ind in mpl.extensions) {\n",
       "        var fmt = mpl.extensions[ind];\n",
       "        var option = $(\n",
       "            '<option/>', {selected: fmt === mpl.default_extension}).html(fmt);\n",
       "        fmt_picker.append(option);\n",
       "    }\n",
       "\n",
       "    // Add hover states to the ui-buttons\n",
       "    $( \".ui-button\" ).hover(\n",
       "        function() { $(this).addClass(\"ui-state-hover\");},\n",
       "        function() { $(this).removeClass(\"ui-state-hover\");}\n",
       "    );\n",
       "\n",
       "    var status_bar = $('<span class=\"mpl-message\"/>');\n",
       "    nav_element.append(status_bar);\n",
       "    this.message = status_bar[0];\n",
       "}\n",
       "\n",
       "mpl.figure.prototype.request_resize = function(x_pixels, y_pixels) {\n",
       "    // Request matplotlib to resize the figure. Matplotlib will then trigger a resize in the client,\n",
       "    // which will in turn request a refresh of the image.\n",
       "    this.send_message('resize', {'width': x_pixels, 'height': y_pixels});\n",
       "}\n",
       "\n",
       "mpl.figure.prototype.send_message = function(type, properties) {\n",
       "    properties['type'] = type;\n",
       "    properties['figure_id'] = this.id;\n",
       "    this.ws.send(JSON.stringify(properties));\n",
       "}\n",
       "\n",
       "mpl.figure.prototype.send_draw_message = function() {\n",
       "    if (!this.waiting) {\n",
       "        this.waiting = true;\n",
       "        this.ws.send(JSON.stringify({type: \"draw\", figure_id: this.id}));\n",
       "    }\n",
       "}\n",
       "\n",
       "\n",
       "mpl.figure.prototype.handle_save = function(fig, msg) {\n",
       "    var format_dropdown = fig.format_dropdown;\n",
       "    var format = format_dropdown.options[format_dropdown.selectedIndex].value;\n",
       "    fig.ondownload(fig, format);\n",
       "}\n",
       "\n",
       "\n",
       "mpl.figure.prototype.handle_resize = function(fig, msg) {\n",
       "    var size = msg['size'];\n",
       "    if (size[0] != fig.canvas.width || size[1] != fig.canvas.height) {\n",
       "        fig._resize_canvas(size[0], size[1]);\n",
       "        fig.send_message(\"refresh\", {});\n",
       "    };\n",
       "}\n",
       "\n",
       "mpl.figure.prototype.handle_rubberband = function(fig, msg) {\n",
       "    var x0 = msg['x0'] / mpl.ratio;\n",
       "    var y0 = (fig.canvas.height - msg['y0']) / mpl.ratio;\n",
       "    var x1 = msg['x1'] / mpl.ratio;\n",
       "    var y1 = (fig.canvas.height - msg['y1']) / mpl.ratio;\n",
       "    x0 = Math.floor(x0) + 0.5;\n",
       "    y0 = Math.floor(y0) + 0.5;\n",
       "    x1 = Math.floor(x1) + 0.5;\n",
       "    y1 = Math.floor(y1) + 0.5;\n",
       "    var min_x = Math.min(x0, x1);\n",
       "    var min_y = Math.min(y0, y1);\n",
       "    var width = Math.abs(x1 - x0);\n",
       "    var height = Math.abs(y1 - y0);\n",
       "\n",
       "    fig.rubberband_context.clearRect(\n",
       "        0, 0, fig.canvas.width / mpl.ratio, fig.canvas.height / mpl.ratio);\n",
       "\n",
       "    fig.rubberband_context.strokeRect(min_x, min_y, width, height);\n",
       "}\n",
       "\n",
       "mpl.figure.prototype.handle_figure_label = function(fig, msg) {\n",
       "    // Updates the figure title.\n",
       "    fig.header.textContent = msg['label'];\n",
       "}\n",
       "\n",
       "mpl.figure.prototype.handle_cursor = function(fig, msg) {\n",
       "    var cursor = msg['cursor'];\n",
       "    switch(cursor)\n",
       "    {\n",
       "    case 0:\n",
       "        cursor = 'pointer';\n",
       "        break;\n",
       "    case 1:\n",
       "        cursor = 'default';\n",
       "        break;\n",
       "    case 2:\n",
       "        cursor = 'crosshair';\n",
       "        break;\n",
       "    case 3:\n",
       "        cursor = 'move';\n",
       "        break;\n",
       "    }\n",
       "    fig.rubberband_canvas.style.cursor = cursor;\n",
       "}\n",
       "\n",
       "mpl.figure.prototype.handle_message = function(fig, msg) {\n",
       "    fig.message.textContent = msg['message'];\n",
       "}\n",
       "\n",
       "mpl.figure.prototype.handle_draw = function(fig, msg) {\n",
       "    // Request the server to send over a new figure.\n",
       "    fig.send_draw_message();\n",
       "}\n",
       "\n",
       "mpl.figure.prototype.handle_image_mode = function(fig, msg) {\n",
       "    fig.image_mode = msg['mode'];\n",
       "}\n",
       "\n",
       "mpl.figure.prototype.updated_canvas_event = function() {\n",
       "    // Called whenever the canvas gets updated.\n",
       "    this.send_message(\"ack\", {});\n",
       "}\n",
       "\n",
       "// A function to construct a web socket function for onmessage handling.\n",
       "// Called in the figure constructor.\n",
       "mpl.figure.prototype._make_on_message_function = function(fig) {\n",
       "    return function socket_on_message(evt) {\n",
       "        if (evt.data instanceof Blob) {\n",
       "            /* FIXME: We get \"Resource interpreted as Image but\n",
       "             * transferred with MIME type text/plain:\" errors on\n",
       "             * Chrome.  But how to set the MIME type?  It doesn't seem\n",
       "             * to be part of the websocket stream */\n",
       "            evt.data.type = \"image/png\";\n",
       "\n",
       "            /* Free the memory for the previous frames */\n",
       "            if (fig.imageObj.src) {\n",
       "                (window.URL || window.webkitURL).revokeObjectURL(\n",
       "                    fig.imageObj.src);\n",
       "            }\n",
       "\n",
       "            fig.imageObj.src = (window.URL || window.webkitURL).createObjectURL(\n",
       "                evt.data);\n",
       "            fig.updated_canvas_event();\n",
       "            fig.waiting = false;\n",
       "            return;\n",
       "        }\n",
       "        else if (typeof evt.data === 'string' && evt.data.slice(0, 21) == \"data:image/png;base64\") {\n",
       "            fig.imageObj.src = evt.data;\n",
       "            fig.updated_canvas_event();\n",
       "            fig.waiting = false;\n",
       "            return;\n",
       "        }\n",
       "\n",
       "        var msg = JSON.parse(evt.data);\n",
       "        var msg_type = msg['type'];\n",
       "\n",
       "        // Call the  \"handle_{type}\" callback, which takes\n",
       "        // the figure and JSON message as its only arguments.\n",
       "        try {\n",
       "            var callback = fig[\"handle_\" + msg_type];\n",
       "        } catch (e) {\n",
       "            console.log(\"No handler for the '\" + msg_type + \"' message type: \", msg);\n",
       "            return;\n",
       "        }\n",
       "\n",
       "        if (callback) {\n",
       "            try {\n",
       "                // console.log(\"Handling '\" + msg_type + \"' message: \", msg);\n",
       "                callback(fig, msg);\n",
       "            } catch (e) {\n",
       "                console.log(\"Exception inside the 'handler_\" + msg_type + \"' callback:\", e, e.stack, msg);\n",
       "            }\n",
       "        }\n",
       "    };\n",
       "}\n",
       "\n",
       "// from http://stackoverflow.com/questions/1114465/getting-mouse-location-in-canvas\n",
       "mpl.findpos = function(e) {\n",
       "    //this section is from http://www.quirksmode.org/js/events_properties.html\n",
       "    var targ;\n",
       "    if (!e)\n",
       "        e = window.event;\n",
       "    if (e.target)\n",
       "        targ = e.target;\n",
       "    else if (e.srcElement)\n",
       "        targ = e.srcElement;\n",
       "    if (targ.nodeType == 3) // defeat Safari bug\n",
       "        targ = targ.parentNode;\n",
       "\n",
       "    // jQuery normalizes the pageX and pageY\n",
       "    // pageX,Y are the mouse positions relative to the document\n",
       "    // offset() returns the position of the element relative to the document\n",
       "    var x = e.pageX - $(targ).offset().left;\n",
       "    var y = e.pageY - $(targ).offset().top;\n",
       "\n",
       "    return {\"x\": x, \"y\": y};\n",
       "};\n",
       "\n",
       "/*\n",
       " * return a copy of an object with only non-object keys\n",
       " * we need this to avoid circular references\n",
       " * http://stackoverflow.com/a/24161582/3208463\n",
       " */\n",
       "function simpleKeys (original) {\n",
       "  return Object.keys(original).reduce(function (obj, key) {\n",
       "    if (typeof original[key] !== 'object')\n",
       "        obj[key] = original[key]\n",
       "    return obj;\n",
       "  }, {});\n",
       "}\n",
       "\n",
       "mpl.figure.prototype.mouse_event = function(event, name) {\n",
       "    var canvas_pos = mpl.findpos(event)\n",
       "\n",
       "    if (name === 'button_press')\n",
       "    {\n",
       "        this.canvas.focus();\n",
       "        this.canvas_div.focus();\n",
       "    }\n",
       "\n",
       "    var x = canvas_pos.x * mpl.ratio;\n",
       "    var y = canvas_pos.y * mpl.ratio;\n",
       "\n",
       "    this.send_message(name, {x: x, y: y, button: event.button,\n",
       "                             step: event.step,\n",
       "                             guiEvent: simpleKeys(event)});\n",
       "\n",
       "    /* This prevents the web browser from automatically changing to\n",
       "     * the text insertion cursor when the button is pressed.  We want\n",
       "     * to control all of the cursor setting manually through the\n",
       "     * 'cursor' event from matplotlib */\n",
       "    event.preventDefault();\n",
       "    return false;\n",
       "}\n",
       "\n",
       "mpl.figure.prototype._key_event_extra = function(event, name) {\n",
       "    // Handle any extra behaviour associated with a key event\n",
       "}\n",
       "\n",
       "mpl.figure.prototype.key_event = function(event, name) {\n",
       "\n",
       "    // Prevent repeat events\n",
       "    if (name == 'key_press')\n",
       "    {\n",
       "        if (event.which === this._key)\n",
       "            return;\n",
       "        else\n",
       "            this._key = event.which;\n",
       "    }\n",
       "    if (name == 'key_release')\n",
       "        this._key = null;\n",
       "\n",
       "    var value = '';\n",
       "    if (event.ctrlKey && event.which != 17)\n",
       "        value += \"ctrl+\";\n",
       "    if (event.altKey && event.which != 18)\n",
       "        value += \"alt+\";\n",
       "    if (event.shiftKey && event.which != 16)\n",
       "        value += \"shift+\";\n",
       "\n",
       "    value += 'k';\n",
       "    value += event.which.toString();\n",
       "\n",
       "    this._key_event_extra(event, name);\n",
       "\n",
       "    this.send_message(name, {key: value,\n",
       "                             guiEvent: simpleKeys(event)});\n",
       "    return false;\n",
       "}\n",
       "\n",
       "mpl.figure.prototype.toolbar_button_onclick = function(name) {\n",
       "    if (name == 'download') {\n",
       "        this.handle_save(this, null);\n",
       "    } else {\n",
       "        this.send_message(\"toolbar_button\", {name: name});\n",
       "    }\n",
       "};\n",
       "\n",
       "mpl.figure.prototype.toolbar_button_onmouseover = function(tooltip) {\n",
       "    this.message.textContent = tooltip;\n",
       "};\n",
       "mpl.toolbar_items = [[\"Home\", \"Reset original view\", \"fa fa-home icon-home\", \"home\"], [\"Back\", \"Back to previous view\", \"fa fa-arrow-left icon-arrow-left\", \"back\"], [\"Forward\", \"Forward to next view\", \"fa fa-arrow-right icon-arrow-right\", \"forward\"], [\"\", \"\", \"\", \"\"], [\"Pan\", \"Pan axes with left mouse, zoom with right\", \"fa fa-arrows icon-move\", \"pan\"], [\"Zoom\", \"Zoom to rectangle\", \"fa fa-square-o icon-check-empty\", \"zoom\"], [\"\", \"\", \"\", \"\"], [\"Download\", \"Download plot\", \"fa fa-floppy-o icon-save\", \"download\"]];\n",
       "\n",
       "mpl.extensions = [\"eps\", \"pdf\", \"png\", \"ps\", \"raw\", \"svg\"];\n",
       "\n",
       "mpl.default_extension = \"png\";var comm_websocket_adapter = function(comm) {\n",
       "    // Create a \"websocket\"-like object which calls the given IPython comm\n",
       "    // object with the appropriate methods. Currently this is a non binary\n",
       "    // socket, so there is still some room for performance tuning.\n",
       "    var ws = {};\n",
       "\n",
       "    ws.close = function() {\n",
       "        comm.close()\n",
       "    };\n",
       "    ws.send = function(m) {\n",
       "        //console.log('sending', m);\n",
       "        comm.send(m);\n",
       "    };\n",
       "    // Register the callback with on_msg.\n",
       "    comm.on_msg(function(msg) {\n",
       "        //console.log('receiving', msg['content']['data'], msg);\n",
       "        // Pass the mpl event to the overridden (by mpl) onmessage function.\n",
       "        ws.onmessage(msg['content']['data'])\n",
       "    });\n",
       "    return ws;\n",
       "}\n",
       "\n",
       "mpl.mpl_figure_comm = function(comm, msg) {\n",
       "    // This is the function which gets called when the mpl process\n",
       "    // starts-up an IPython Comm through the \"matplotlib\" channel.\n",
       "\n",
       "    var id = msg.content.data.id;\n",
       "    // Get hold of the div created by the display call when the Comm\n",
       "    // socket was opened in Python.\n",
       "    var element = $(\"#\" + id);\n",
       "    var ws_proxy = comm_websocket_adapter(comm)\n",
       "\n",
       "    function ondownload(figure, format) {\n",
       "        window.open(figure.imageObj.src);\n",
       "    }\n",
       "\n",
       "    var fig = new mpl.figure(id, ws_proxy,\n",
       "                           ondownload,\n",
       "                           element.get(0));\n",
       "\n",
       "    // Call onopen now - mpl needs it, as it is assuming we've passed it a real\n",
       "    // web socket which is closed, not our websocket->open comm proxy.\n",
       "    ws_proxy.onopen();\n",
       "\n",
       "    fig.parent_element = element.get(0);\n",
       "    fig.cell_info = mpl.find_output_cell(\"<div id='\" + id + \"'></div>\");\n",
       "    if (!fig.cell_info) {\n",
       "        console.error(\"Failed to find cell for figure\", id, fig);\n",
       "        return;\n",
       "    }\n",
       "\n",
       "    var output_index = fig.cell_info[2]\n",
       "    var cell = fig.cell_info[0];\n",
       "\n",
       "};\n",
       "\n",
       "mpl.figure.prototype.handle_close = function(fig, msg) {\n",
       "    var width = fig.canvas.width/mpl.ratio\n",
       "    fig.root.unbind('remove')\n",
       "\n",
       "    // Update the output cell to use the data from the current canvas.\n",
       "    fig.push_to_output();\n",
       "    var dataURL = fig.canvas.toDataURL();\n",
       "    // Re-enable the keyboard manager in IPython - without this line, in FF,\n",
       "    // the notebook keyboard shortcuts fail.\n",
       "    IPython.keyboard_manager.enable()\n",
       "    $(fig.parent_element).html('<img src=\"' + dataURL + '\" width=\"' + width + '\">');\n",
       "    fig.close_ws(fig, msg);\n",
       "}\n",
       "\n",
       "mpl.figure.prototype.close_ws = function(fig, msg){\n",
       "    fig.send_message('closing', msg);\n",
       "    // fig.ws.close()\n",
       "}\n",
       "\n",
       "mpl.figure.prototype.push_to_output = function(remove_interactive) {\n",
       "    // Turn the data on the canvas into data in the output cell.\n",
       "    var width = this.canvas.width/mpl.ratio\n",
       "    var dataURL = this.canvas.toDataURL();\n",
       "    this.cell_info[1]['text/html'] = '<img src=\"' + dataURL + '\" width=\"' + width + '\">';\n",
       "}\n",
       "\n",
       "mpl.figure.prototype.updated_canvas_event = function() {\n",
       "    // Tell IPython that the notebook contents must change.\n",
       "    IPython.notebook.set_dirty(true);\n",
       "    this.send_message(\"ack\", {});\n",
       "    var fig = this;\n",
       "    // Wait a second, then push the new image to the DOM so\n",
       "    // that it is saved nicely (might be nice to debounce this).\n",
       "    setTimeout(function () { fig.push_to_output() }, 1000);\n",
       "}\n",
       "\n",
       "mpl.figure.prototype._init_toolbar = function() {\n",
       "    var fig = this;\n",
       "\n",
       "    var nav_element = $('<div/>');\n",
       "    nav_element.attr('style', 'width: 100%');\n",
       "    this.root.append(nav_element);\n",
       "\n",
       "    // Define a callback function for later on.\n",
       "    function toolbar_event(event) {\n",
       "        return fig.toolbar_button_onclick(event['data']);\n",
       "    }\n",
       "    function toolbar_mouse_event(event) {\n",
       "        return fig.toolbar_button_onmouseover(event['data']);\n",
       "    }\n",
       "\n",
       "    for(var toolbar_ind in mpl.toolbar_items){\n",
       "        var name = mpl.toolbar_items[toolbar_ind][0];\n",
       "        var tooltip = mpl.toolbar_items[toolbar_ind][1];\n",
       "        var image = mpl.toolbar_items[toolbar_ind][2];\n",
       "        var method_name = mpl.toolbar_items[toolbar_ind][3];\n",
       "\n",
       "        if (!name) { continue; };\n",
       "\n",
       "        var button = $('<button class=\"btn btn-default\" href=\"#\" title=\"' + name + '\"><i class=\"fa ' + image + ' fa-lg\"></i></button>');\n",
       "        button.click(method_name, toolbar_event);\n",
       "        button.mouseover(tooltip, toolbar_mouse_event);\n",
       "        nav_element.append(button);\n",
       "    }\n",
       "\n",
       "    // Add the status bar.\n",
       "    var status_bar = $('<span class=\"mpl-message\" style=\"text-align:right; float: right;\"/>');\n",
       "    nav_element.append(status_bar);\n",
       "    this.message = status_bar[0];\n",
       "\n",
       "    // Add the close button to the window.\n",
       "    var buttongrp = $('<div class=\"btn-group inline pull-right\"></div>');\n",
       "    var button = $('<button class=\"btn btn-mini btn-primary\" href=\"#\" title=\"Stop Interaction\"><i class=\"fa fa-power-off icon-remove icon-large\"></i></button>');\n",
       "    button.click(function (evt) { fig.handle_close(fig, {}); } );\n",
       "    button.mouseover('Stop Interaction', toolbar_mouse_event);\n",
       "    buttongrp.append(button);\n",
       "    var titlebar = this.root.find($('.ui-dialog-titlebar'));\n",
       "    titlebar.prepend(buttongrp);\n",
       "}\n",
       "\n",
       "mpl.figure.prototype._root_extra_style = function(el){\n",
       "    var fig = this\n",
       "    el.on(\"remove\", function(){\n",
       "\tfig.close_ws(fig, {});\n",
       "    });\n",
       "}\n",
       "\n",
       "mpl.figure.prototype._canvas_extra_style = function(el){\n",
       "    // this is important to make the div 'focusable\n",
       "    el.attr('tabindex', 0)\n",
       "    // reach out to IPython and tell the keyboard manager to turn it's self\n",
       "    // off when our div gets focus\n",
       "\n",
       "    // location in version 3\n",
       "    if (IPython.notebook.keyboard_manager) {\n",
       "        IPython.notebook.keyboard_manager.register_events(el);\n",
       "    }\n",
       "    else {\n",
       "        // location in version 2\n",
       "        IPython.keyboard_manager.register_events(el);\n",
       "    }\n",
       "\n",
       "}\n",
       "\n",
       "mpl.figure.prototype._key_event_extra = function(event, name) {\n",
       "    var manager = IPython.notebook.keyboard_manager;\n",
       "    if (!manager)\n",
       "        manager = IPython.keyboard_manager;\n",
       "\n",
       "    // Check for shift+enter\n",
       "    if (event.shiftKey && event.which == 13) {\n",
       "        this.canvas_div.blur();\n",
       "        // select the cell after this one\n",
       "        var index = IPython.notebook.find_cell_index(this.cell_info[0]);\n",
       "        IPython.notebook.select(index + 1);\n",
       "    }\n",
       "}\n",
       "\n",
       "mpl.figure.prototype.handle_save = function(fig, msg) {\n",
       "    fig.ondownload(fig, null);\n",
       "}\n",
       "\n",
       "\n",
       "mpl.find_output_cell = function(html_output) {\n",
       "    // Return the cell and output element which can be found *uniquely* in the notebook.\n",
       "    // Note - this is a bit hacky, but it is done because the \"notebook_saving.Notebook\"\n",
       "    // IPython event is triggered only after the cells have been serialised, which for\n",
       "    // our purposes (turning an active figure into a static one), is too late.\n",
       "    var cells = IPython.notebook.get_cells();\n",
       "    var ncells = cells.length;\n",
       "    for (var i=0; i<ncells; i++) {\n",
       "        var cell = cells[i];\n",
       "        if (cell.cell_type === 'code'){\n",
       "            for (var j=0; j<cell.output_area.outputs.length; j++) {\n",
       "                var data = cell.output_area.outputs[j];\n",
       "                if (data.data) {\n",
       "                    // IPython >= 3 moved mimebundle to data attribute of output\n",
       "                    data = data.data;\n",
       "                }\n",
       "                if (data['text/html'] == html_output) {\n",
       "                    return [cell, data, j];\n",
       "                }\n",
       "            }\n",
       "        }\n",
       "    }\n",
       "}\n",
       "\n",
       "// Register the function which deals with the matplotlib target/channel.\n",
       "// The kernel may be null if the page has been refreshed.\n",
       "if (IPython.notebook.kernel != null) {\n",
       "    IPython.notebook.kernel.comm_manager.register_target('matplotlib', mpl.mpl_figure_comm);\n",
       "}\n"
      ],
      "text/plain": [
       "<IPython.core.display.Javascript object>"
      ]
     },
     "metadata": {},
     "output_type": "display_data"
    },
    {
     "data": {
      "text/html": [
       "<img src=\"data:image/png;base64,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\" width=\"640\">"
      ],
      "text/plain": [
       "<IPython.core.display.HTML object>"
      ]
     },
     "metadata": {},
     "output_type": "display_data"
    },
    {
     "data": {
      "text/plain": [
       "'trajectory.p_end: 2.0'"
      ]
     },
     "metadata": {},
     "output_type": "display_data"
    },
    {
     "data": {
      "text/plain": [
       "' delta: (1.00, 2.00, 1.00) p_end: 2.00'"
      ]
     },
     "metadata": {},
     "output_type": "display_data"
    },
    {
     "data": {
      "text/plain": [
       "' delta: (1.50, 3.00, 1.50) p_end: 6.75'"
      ]
     },
     "metadata": {},
     "output_type": "display_data"
    },
    {
     "data": {
      "text/plain": [
       "' delta: (1.25, 2.50, 1.25) p_end: 3.91'"
      ]
     },
     "metadata": {},
     "output_type": "display_data"
    },
    {
     "data": {
      "text/plain": [
       "' delta: (1.12, 2.25, 1.12) p_end: 2.85'"
      ]
     },
     "metadata": {},
     "output_type": "display_data"
    },
    {
     "data": {
      "text/plain": [
       "' delta: (1.06, 2.12, 1.06) p_end: 2.40'"
      ]
     },
     "metadata": {},
     "output_type": "display_data"
    },
    {
     "data": {
      "text/plain": [
       "' delta: (1.03, 2.06, 1.03) p_end: 2.19'"
      ]
     },
     "metadata": {},
     "output_type": "display_data"
    },
    {
     "data": {
      "text/plain": [
       "' delta: (1.02, 2.03, 1.02) p_end: 2.10'"
      ]
     },
     "metadata": {},
     "output_type": "display_data"
    },
    {
     "data": {
      "text/plain": [
       "' delta: (1.01, 2.02, 1.01) p_end: 2.05'"
      ]
     },
     "metadata": {},
     "output_type": "display_data"
    },
    {
     "data": {
      "text/plain": [
       "' delta: (1.00, 2.01, 1.00) p_end: 2.02'"
      ]
     },
     "metadata": {},
     "output_type": "display_data"
    },
    {
     "data": {
      "text/plain": [
       "' delta: (1.00, 2.00, 1.00) p_end: 2.01'"
      ]
     },
     "metadata": {},
     "output_type": "display_data"
    },
    {
     "data": {
      "text/plain": [
       "' delta: (1.00, 2.00, 1.00) p_end: 2.01'"
      ]
     },
     "metadata": {},
     "output_type": "display_data"
    },
    {
     "data": {
      "text/plain": [
       "' delta: (1.00, 2.00, 1.00) p_end: 2.00'"
      ]
     },
     "metadata": {},
     "output_type": "display_data"
    },
    {
     "data": {
      "text/plain": [
       "' delta: (1.00, 2.00, 1.00) p_end: 2.00'"
      ]
     },
     "metadata": {},
     "output_type": "display_data"
    },
    {
     "data": {
      "text/plain": [
       "' delta: (1.00, 2.00, 1.00) p_end: 2.00'"
      ]
     },
     "metadata": {},
     "output_type": "display_data"
    },
    {
     "data": {
      "text/plain": [
       "' delta: (1.00, 2.00, 1.00) p_end: 2.00'"
      ]
     },
     "metadata": {},
     "output_type": "display_data"
    },
    {
     "data": {
      "text/plain": [
       "' delta: (1.00, 2.00, 1.00) p_end: 2.00'"
      ]
     },
     "metadata": {},
     "output_type": "display_data"
    },
    {
     "data": {
      "text/plain": [
       "' delta: (1.00, 2.00, 1.00) p_end: 2.00'"
      ]
     },
     "metadata": {},
     "output_type": "display_data"
    },
    {
     "data": {
      "text/plain": [
       "' delta: (1.00, 2.00, 1.00) p_end: 2.00'"
      ]
     },
     "metadata": {},
     "output_type": "display_data"
    },
    {
     "data": {
      "text/plain": [
       "' delta: (1.00, 2.00, 1.00) p_end: 2.00'"
      ]
     },
     "metadata": {},
     "output_type": "display_data"
    },
    {
     "data": {
      "text/plain": [
       "' delta: (1.00, 2.00, 1.00) p_end: 2.00'"
      ]
     },
     "metadata": {},
     "output_type": "display_data"
    },
    {
     "data": {
      "text/plain": [
       "' delta: (1.00, 2.00, 1.00) p_end: 2.00'"
      ]
     },
     "metadata": {},
     "output_type": "display_data"
    },
    {
     "data": {
      "text/plain": [
       "' delta: (1.00, 2.00, 1.00) p_end: 2.00'"
      ]
     },
     "metadata": {},
     "output_type": "display_data"
    },
    {
     "data": {
      "text/plain": [
       "' delta: (1.00, 2.00, 1.00) p_end: 2.00'"
      ]
     },
     "metadata": {},
     "output_type": "display_data"
    },
    {
     "data": {
      "text/plain": [
       "' delta: (1.00, 2.00, 1.00) p_end: 2.00'"
      ]
     },
     "metadata": {},
     "output_type": "display_data"
    },
    {
     "data": {
      "text/plain": [
       "' delta: (1.00, 2.00, 1.00) p_end: 2.00'"
      ]
     },
     "metadata": {},
     "output_type": "display_data"
    },
    {
     "data": {
      "text/plain": [
       "' delta: (1.00, 2.00, 1.00) p_end: 2.00'"
      ]
     },
     "metadata": {},
     "output_type": "display_data"
    },
    {
     "data": {
      "text/plain": [
       "' delta: (1.00, 2.00, 1.00) p_end: 2.00'"
      ]
     },
     "metadata": {},
     "output_type": "display_data"
    },
    {
     "data": {
      "text/plain": [
       "' delta: (1.00, 2.00, 1.00) p_end: 2.00'"
      ]
     },
     "metadata": {},
     "output_type": "display_data"
    },
    {
     "data": {
      "text/plain": [
       "' delta: (1.00, 2.00, 1.00) p_end: 2.00'"
      ]
     },
     "metadata": {},
     "output_type": "display_data"
    },
    {
     "data": {
      "text/plain": [
       "' delta: (1.00, 2.00, 1.00) p_end: 2.00'"
      ]
     },
     "metadata": {},
     "output_type": "display_data"
    },
    {
     "data": {
      "text/plain": [
       "' delta: (1.00, 2.00, 1.00) p_end: 2.00'"
      ]
     },
     "metadata": {},
     "output_type": "display_data"
    },
    {
     "data": {
      "text/plain": [
       "' delta: (1.00, 2.00, 1.00) p_end: 2.00'"
      ]
     },
     "metadata": {},
     "output_type": "display_data"
    },
    {
     "data": {
      "text/plain": [
       "' delta: (1.00, 2.00, 1.00) p_end: 2.00'"
      ]
     },
     "metadata": {},
     "output_type": "display_data"
    },
    {
     "data": {
      "text/plain": [
       "' delta: (1.00, 2.00, 1.00) p_end: 2.00'"
      ]
     },
     "metadata": {},
     "output_type": "display_data"
    },
    {
     "data": {
      "text/plain": [
       "' delta: (1.00, 2.00, 1.00) p_end: 2.00'"
      ]
     },
     "metadata": {},
     "output_type": "display_data"
    },
    {
     "data": {
      "text/plain": [
       "' delta: (1.00, 2.00, 1.00) p_end: 2.00'"
      ]
     },
     "metadata": {},
     "output_type": "display_data"
    },
    {
     "data": {
      "text/plain": [
       "' delta: (1.00, 2.00, 1.00) p_end: 2.00'"
      ]
     },
     "metadata": {},
     "output_type": "display_data"
    },
    {
     "data": {
      "text/plain": [
       "' delta: (1.00, 2.00, 1.00) p_end: 2.00'"
      ]
     },
     "metadata": {},
     "output_type": "display_data"
    },
    {
     "data": {
      "text/plain": [
       "' delta: (1.00, 2.00, 1.00) p_end: 2.00'"
      ]
     },
     "metadata": {},
     "output_type": "display_data"
    },
    {
     "data": {
      "text/plain": [
       "' delta: (1.00, 2.00, 1.00) p_end: 2.00'"
      ]
     },
     "metadata": {},
     "output_type": "display_data"
    },
    {
     "data": {
      "image/png": "[encoded data removed]",
      "text/latex": [
       "$\\displaystyle 1.000000000001819$"
      ],
      "text/plain": [
       "1.000000000001819"
      ]
     },
     "execution_count": 23,
     "metadata": {},
     "output_type": "execute_result"
    }
   ],
   "source": [
    "def compute_delta_0_and_1(trajectory, delta_2_val):\n",
    "    delta_1_solutions[1].subs(trajectory.subs).evalf()\n",
    "    for delta_1_lambda in delta_1_lambdas:\n",
    "        delta_1_val = delta_1_lambda(delta_2_val)\n",
    "        delta_0_val = delta_0_lambda(delta_1_val, delta_2_val)\n",
    "        if delta_0_val >= 0 and delta_1_val >= 0:\n",
    "            return delta_0_val, delta_1_val\n",
    "    return None, None\n",
    "\n",
    "delta_2_max = 2.0 * trajectory.a_max / trajectory.j_max\n",
    "delta_2_vals = np.linspace(0.0, delta_2_max, 100)\n",
    "p_end_vals = []\n",
    "for delta_2_val in delta_2_vals:\n",
    "    delta_0_val, delta_1_val = compute_delta_0_and_1(trajectory, delta_2_val)\n",
    "    if delta_0_val != None and delta_1_val != None:\n",
    "        p_end_val = p_end_lambda(delta_0_val, delta_1_val, delta_2_val)\n",
    "        p_end_vals.append(p_end_val)\n",
    "\n",
    "      \n",
    "plt.plot(delta_2_vals, p_end_vals)\n",
    "plt.xlabel('delta_2 (s)')\n",
    "plt.ylabel('p_end')\n",
    "\n",
    "# Use binary search to find the zero crossing. (Assumes that there is exactly one)\n",
    "delta_2_min = 0.0\n",
    "display('trajectory.p_end: {}'.format(trajectory.p_end))\n",
    "for ii in range(40):\n",
    "    delta_2_midpoint = (delta_2_min + delta_2_max) / 2.0\n",
    "    delta_0_val, delta_1_val = compute_delta_0_and_1(trajectory, delta_2_midpoint)\n",
    "    if delta_0_val == None and delta_1_val == None:\n",
    "        raise RuntimeError('No valid values for delta_0 and delta_1')\n",
    "        \n",
    "    # min_p_end = p_end_lambda(delta_0_val, delta_1_val, delta_2_min)\n",
    "    midpoint_p_end = p_end_lambda(delta_0_val, delta_1_val, delta_2_midpoint)\n",
    "    display(f' delta: ({delta_0_val:.2f}, {delta_1_val:.2f}, {delta_2_midpoint:.2f}) p_end: {midpoint_p_end:.2f}')\n",
    "    # max_p_end = p_end_lambda(delta_0_val, delta_1_val, delta_2_max)\n",
    "    \n",
    "    #display('   '.join(['{:.2f}: {:.2f}'.format(x, y) for x, y in\n",
    "    #    [(delta_2_min, min_p_end),\n",
    "    #    (delta_2_midpoint, midpoint_p_end),\n",
    "    #    (delta_2_max, max_p_end)]]))\n",
    "    \n",
    "    if trajectory.p_end > midpoint_p_end:\n",
    "        delta_2_min = delta_2_midpoint\n",
    "    else:\n",
    "        delta_2_max = delta_2_midpoint\n",
    "delta_2_midpoint\n",
    "\n",
    "    "
   ]
  },
  {
   "cell_type": "code",
   "execution_count": 17,
   "metadata": {},
   "outputs": [
    {
     "data": {
      "image/png": "[encoded data removed]",
      "text/latex": [
       "$\\displaystyle \\left( 1.999999999999998, \\  0.0, \\  0.0\\right)$"
      ],
      "text/plain": [
       "(1.999999999999998, 0.0, 0.0)"
      ]
     },
     "execution_count": 17,
     "metadata": {},
     "output_type": "execute_result"
    }
   ],
   "source": [
    "deltas = (1., 2., 1.)\n",
    "p_end_lambda(*deltas), v_end_lambda(*deltas), a_end_lambda(*deltas)"
   ]
  },
  {
   "cell_type": "code",
   "execution_count": null,
   "metadata": {},
   "outputs": [],
   "source": []
  }
 ],
 "metadata": {
  "kernelspec": {
   "display_name": "Python 3",
   "language": "python",
   "name": "python3"
  },
  "language_info": {
   "codemirror_mode": {
    "name": "ipython",
    "version": 3
   },
   "file_extension": ".py",
   "mimetype": "text/x-python",
   "name": "python",
   "nbconvert_exporter": "python",
   "pygments_lexer": "ipython3",
   "version": "3.8.5"
  }
 },
 "nbformat": 4,
 "nbformat_minor": 4
}
